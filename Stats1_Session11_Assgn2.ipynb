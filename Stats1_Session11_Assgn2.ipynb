{
 "cells": [
  {
   "cell_type": "markdown",
   "metadata": {},
   "source": [
    "# 1The marks awarded for an assignment set for a Year 8 class of 20 students were as follows:\n",
    "6 7 5 7 7 8 7 6 9 7 4 10 6 8 8 9 5 6 4 8\n",
    "\n",
    "Calculate the mean, median, mode and standard deviation for the problem statements"
   ]
  },
  {
   "cell_type": "code",
   "execution_count": 8,
   "metadata": {},
   "outputs": [
    {
     "name": "stdout",
     "output_type": "stream",
     "text": [
      "The Mean for the Students Marks is : 6.85\n",
      "The Median for the Students Marks is : 7.0\n",
      "The Mode for the Students Marks is : ModeResult(mode=array([7]), count=array([5]))\n",
      "The Standard Deviation for the Students Marks is : 1.5898113095584647\n"
     ]
    }
   ],
   "source": [
    "import numpy as np\n",
    "from scipy import stats\n",
    "studMarks=[6,7,5,7,7,8,7,6,9,7,4,10,6,8,8,9,5,6,4,8]\n",
    "mean=np.mean(studMarks)\n",
    "median=np.median(studMarks)\n",
    "mode=stats.mode(studMarks)\n",
    "std=np.std(studMarks)\n",
    "print(\"The Mean for the Students Marks is :\",mean)\n",
    "print(\"The Median for the Students Marks is :\",median)\n",
    "print(\"The Mode for the Students Marks is :\",mode)\n",
    "print(\"The Standard Deviation for the Students Marks is :\",std)"
   ]
  },
  {
   "cell_type": "markdown",
   "metadata": {},
   "source": [
    "# 2 The number of calls from motorists per day for roadside service was recorded for a particular month:\n",
    "28, 122, 217, 130, 120, 86, 80, 90, 140, 120, 70, 40, 145, 113, 90, 68, 174, 194, 170, 100, 75, 104, 97, 75,\n",
    "123, 100, 75, 104, 97, 75, 123, 100, 89, 120, 109\n",
    "Calculate the mean, median, mode and standard deviation for the problem statements"
   ]
  },
  {
   "cell_type": "code",
   "execution_count": 11,
   "metadata": {},
   "outputs": [
    {
     "name": "stdout",
     "output_type": "stream",
     "text": [
      "The Mean for the Students Marks is : 107.51428571428572\n",
      "The Median for the Students Marks is : 100.0\n",
      "The Mode for the Students Marks is : ModeResult(mode=array([75]), count=array([4]))\n",
      "The Standard Deviation for the Students Marks is : 38.77287080168403\n"
     ]
    }
   ],
   "source": [
    "import numpy as np\n",
    "from scipy import stats\n",
    "motCalls=[28,122,217,130,120,86,80,90,140,120,70,40,145,113,90,68,174,194,170,100,75,104,97,75,123,100,75,104,97,75,123,100,89,120,109]\n",
    "mean=np.mean(motCalls)\n",
    "median=np.median(motCalls)\n",
    "mode=stats.mode(motCalls)\n",
    "std=np.std(motCalls)\n",
    "print(\"The Mean for the Students Marks is :\",mean)\n",
    "print(\"The Median for the Students Marks is :\",median)\n",
    "print(\"The Mode for the Students Marks is :\",mode)\n",
    "print(\"The Standard Deviation for the Students Marks is :\",std)"
   ]
  },
  {
   "cell_type": "markdown",
   "metadata": {},
   "source": [
    "# 3 The number of times I go to the gym in weekdays, are given below along with its associated probability:\n",
    "x = 0, 1, 2, 3, 4, 5\n",
    "f(x) = 0.09, 0.15, 0.40, 0.25, 0.10, 0.01\n",
    "Calculate the mean no. of workouts in a week. Also evaluate the variance involved in it."
   ]
  },
  {
   "cell_type": "code",
   "execution_count": null,
   "metadata": {},
   "outputs": [],
   "source": []
  }
 ],
 "metadata": {
  "kernelspec": {
   "display_name": "Python 3",
   "language": "python",
   "name": "python3"
  },
  "language_info": {
   "codemirror_mode": {
    "name": "ipython",
    "version": 3
   },
   "file_extension": ".py",
   "mimetype": "text/x-python",
   "name": "python",
   "nbconvert_exporter": "python",
   "pygments_lexer": "ipython3",
   "version": "3.7.0"
  }
 },
 "nbformat": 4,
 "nbformat_minor": 2
}
